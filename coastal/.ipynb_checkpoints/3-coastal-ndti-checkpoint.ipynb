{
 "cells": [
  {
   "cell_type": "code",
   "execution_count": 14,
   "id": "3085459a-d22e-4733-85c9-6082f0a81b6a",
   "metadata": {},
   "outputs": [],
   "source": [
    "# import libraries\n",
    "from pystac_client import Client\n",
    "from dask.distributed import Client as DaskClient\n",
    "from odc.stac import load, configure_s3_access\n",
    "import rasterio as rio\n",
    "import geopandas as gpd\n",
    "import pandas as pd\n",
    "import numpy as np\n",
    "import xarray as xr\n",
    "import folium\n",
    "# import utils\n",
    "# from utils import load_data\n",
    "# from utils import mask_and_scale\n",
    "from sklearn.ensemble import RandomForestClassifier\n",
    "import odc.geo.xr\n",
    "import rioxarray\n",
    "import matplotlib.pyplot as plt"
   ]
  },
  {
   "cell_type": "code",
   "execution_count": 15,
   "id": "42f47e07-176f-47a6-9dfb-955da0c1b4a7",
   "metadata": {},
   "outputs": [],
   "source": [
    "# bbox navua\n",
    "min_lat = -18.279530\n",
    "min_lon = 178.142327\n",
    "max_lat = -18.254355\n",
    "max_lon = 178.169476\n",
    "\n",
    "bbox = [min_lon, min_lat, max_lon, max_lat]"
   ]
  },
  {
   "cell_type": "code",
   "execution_count": 16,
   "id": "b308a890-4a8b-412f-b47a-6ce11b251f04",
   "metadata": {},
   "outputs": [],
   "source": [
    "# datetime\n"
   ]
  },
  {
   "cell_type": "code",
   "execution_count": 17,
   "id": "f6cb81bf-7497-4982-9f62-55f545f01514",
   "metadata": {},
   "outputs": [
    {
     "ename": "SyntaxError",
     "evalue": "invalid syntax (1130464991.py, line 6)",
     "output_type": "error",
     "traceback": [
      "\u001b[0;36m  Cell \u001b[0;32mIn[17], line 6\u001b[0;36m\u001b[0m\n\u001b[0;31m    import\u001b[0m\n\u001b[0m           ^\u001b[0m\n\u001b[0;31mSyntaxError\u001b[0m\u001b[0;31m:\u001b[0m invalid syntax\n"
     ]
    }
   ],
   "source": [
    "# import dependencies\n",
    "\n",
    "import rasterio as rio\n",
    "import xarray as xr\n",
    "import Client\n",
    "import "
   ]
  },
  {
   "cell_type": "code",
   "execution_count": null,
   "id": "8423cfb9-841e-401e-8423-d28354ef3d9b",
   "metadata": {},
   "outputs": [],
   "source": [
    "bbox = "
   ]
  },
  {
   "cell_type": "code",
   "execution_count": null,
   "id": "64a6dc0f-5d26-42dc-a287-8f0570a3de92",
   "metadata": {},
   "outputs": [],
   "source": []
  },
  {
   "cell_type": "code",
   "execution_count": 2,
   "id": "7c920a43-87c7-4af9-adf9-7a881500a990",
   "metadata": {},
   "outputs": [],
   "source": [
    "catalog = \"https://earth-search.aws.element84.com/v1\"\n",
    "collection = \"sentinel_2_per\""
   ]
  },
  {
   "cell_type": "code",
   "execution_count": null,
   "id": "cd2295d3-33df-44e2-bfd9-47fea6a1dcc7",
   "metadata": {},
   "outputs": [],
   "source": [
    "client = Client.\n",
    "\n"
   ]
  },
  {
   "cell_type": "code",
   "execution_count": null,
   "id": "9d2e011b-28b7-4721-9ae7-78d011edcab1",
   "metadata": {},
   "outputs": [],
   "source": [
    "bbox = ["
   ]
  }
 ],
 "metadata": {
  "kernelspec": {
   "display_name": "Python 3 (ipykernel)",
   "language": "python",
   "name": "python3"
  },
  "language_info": {
   "codemirror_mode": {
    "name": "ipython",
    "version": 3
   },
   "file_extension": ".py",
   "mimetype": "text/x-python",
   "name": "python",
   "nbconvert_exporter": "python",
   "pygments_lexer": "ipython3",
   "version": "3.10.18"
  }
 },
 "nbformat": 4,
 "nbformat_minor": 5
}
