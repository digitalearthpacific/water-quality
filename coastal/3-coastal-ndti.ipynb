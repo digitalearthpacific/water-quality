{
 "cells": [
  {
   "cell_type": "code",
   "execution_count": 1,
   "id": "42f47e07-176f-47a6-9dfb-955da0c1b4a7",
   "metadata": {},
   "outputs": [],
   "source": [
    "# coastal ndti"
   ]
  },
  {
   "cell_type": "code",
   "execution_count": 2,
   "id": "f6cb81bf-7497-4982-9f62-55f545f01514",
   "metadata": {},
   "outputs": [
    {
     "ename": "SyntaxError",
     "evalue": "invalid syntax (1130464991.py, line 6)",
     "output_type": "error",
     "traceback": [
      "\u001b[0;36m  Cell \u001b[0;32mIn[2], line 6\u001b[0;36m\u001b[0m\n\u001b[0;31m    import\u001b[0m\n\u001b[0m           ^\u001b[0m\n\u001b[0;31mSyntaxError\u001b[0m\u001b[0;31m:\u001b[0m invalid syntax\n"
     ]
    }
   ],
   "source": [
    "# import dependencies\n",
    "\n",
    "import rasterio as rio\n",
    "import xarray as xr\n",
    "import Client\n",
    "import "
   ]
  },
  {
   "cell_type": "code",
   "execution_count": null,
   "id": "8423cfb9-841e-401e-8423-d28354ef3d9b",
   "metadata": {},
   "outputs": [],
   "source": [
    "bbox = "
   ]
  },
  {
   "cell_type": "code",
   "execution_count": null,
   "id": "64a6dc0f-5d26-42dc-a287-8f0570a3de92",
   "metadata": {},
   "outputs": [],
   "source": []
  },
  {
   "cell_type": "code",
   "execution_count": 2,
   "id": "7c920a43-87c7-4af9-adf9-7a881500a990",
   "metadata": {},
   "outputs": [],
   "source": [
    "catalog = \"elements84\"\n",
    "collection = \"sentinel_2_per\""
   ]
  },
  {
   "cell_type": "code",
   "execution_count": null,
   "id": "cd2295d3-33df-44e2-bfd9-47fea6a1dcc7",
   "metadata": {},
   "outputs": [],
   "source": [
    "client = Client.\n",
    "\n"
   ]
  },
  {
   "cell_type": "code",
   "execution_count": null,
   "id": "9d2e011b-28b7-4721-9ae7-78d011edcab1",
   "metadata": {},
   "outputs": [],
   "source": [
    "bbox = ["
   ]
  }
 ],
 "metadata": {
  "kernelspec": {
   "display_name": "Python 3 (ipykernel)",
   "language": "python",
   "name": "python3"
  },
  "language_info": {
   "codemirror_mode": {
    "name": "ipython",
    "version": 3
   },
   "file_extension": ".py",
   "mimetype": "text/x-python",
   "name": "python",
   "nbconvert_exporter": "python",
   "pygments_lexer": "ipython3",
   "version": "3.10.16"
  }
 },
 "nbformat": 4,
 "nbformat_minor": 5
}
